{
 "cells": [
  {
   "cell_type": "markdown",
   "metadata": {},
   "source": [
    "# Step One-Scrapping"
   ]
  },
  {
   "cell_type": "code",
   "execution_count": 10,
   "metadata": {},
   "outputs": [],
   "source": [
    "# Dependencies\n",
    "from splinter import Browser\n",
    "from bs4 import BeautifulSoup\n",
    "import pandas as pd\n",
    "from pprint import pprint"
   ]
  },
  {
   "cell_type": "code",
   "execution_count": 31,
   "metadata": {},
   "outputs": [],
   "source": [
    "executable_path = {'executable_path': 'chromedriver.exe'}\n",
    "browser = Browser('chrome', **executable_path, headless=False)"
   ]
  },
  {
   "cell_type": "markdown",
   "metadata": {},
   "source": [
    "# Scrapping News Title and Summary Paragraph"
   ]
  },
  {
   "cell_type": "code",
   "execution_count": 12,
   "metadata": {},
   "outputs": [],
   "source": [
    "#Scrape with URL\n",
    "url = 'https://mars.nasa.gov/news/'\n",
    "browser.visit(url)"
   ]
  },
  {
   "cell_type": "code",
   "execution_count": 13,
   "metadata": {},
   "outputs": [],
   "source": [
    "#BeautifulSoup and parse\n",
    "html = browser.html\n",
    "mars_news_soup = BeautifulSoup(html, 'html.parser')"
   ]
  },
  {
   "cell_type": "code",
   "execution_count": 14,
   "metadata": {},
   "outputs": [
    {
     "name": "stdout",
     "output_type": "stream",
     "text": [
      "Curiosity Tastes First Sample in 'Clay-Bearing Unit'\n",
      "This new region on Mars might reveal more about the role of water on Mount Sharp.\n"
     ]
    }
   ],
   "source": [
    "#Retrieve elements\n",
    "news_title=mars_news_soup.find('div', class_='content_title').text\n",
    "news_p=mars_news_soup.find('div', class_='article_teaser_body').text\n",
    "\n",
    "#Results\n",
    "#check to see if it works and reference the website\n",
    "print(news_title)\n",
    "print(news_p)"
   ]
  },
  {
   "cell_type": "markdown",
   "metadata": {},
   "source": [
    "# Scrapping Images"
   ]
  },
  {
   "cell_type": "code",
   "execution_count": 15,
   "metadata": {},
   "outputs": [],
   "source": [
    "#Scrape with URL\n",
    "url='https://www.jpl.nasa.gov/spaceimages/?search=&category=Mars'\n",
    "browser.visit(url)"
   ]
  },
  {
   "cell_type": "code",
   "execution_count": 16,
   "metadata": {},
   "outputs": [],
   "source": [
    "#Click to the page\n",
    "browser.click_link_by_partial_text('FULL IMAGE')"
   ]
  },
  {
   "cell_type": "code",
   "execution_count": 17,
   "metadata": {},
   "outputs": [],
   "source": [
    "#BeautifulSoup and parse\n",
    "html=browser.html\n",
    "image_soup=BeautifulSoup(html, 'html.parser')"
   ]
  },
  {
   "cell_type": "code",
   "execution_count": 18,
   "metadata": {},
   "outputs": [],
   "source": [
    "#Retrieve elements\n",
    "image_url=image_soup.find('img', class_='fancybox-image')['src']"
   ]
  },
  {
   "cell_type": "code",
   "execution_count": 19,
   "metadata": {},
   "outputs": [
    {
     "data": {
      "text/plain": [
       "'https://www.jpl.nasa.gov/spaceimages/images/mediumsize/PIA18826_ip.jpg'"
      ]
     },
     "execution_count": 19,
     "metadata": {},
     "output_type": "execute_result"
    }
   ],
   "source": [
    "#Results\n",
    "main_url='https://www.jpl.nasa.gov'\n",
    "feature_image_url=main_url+image_url\n",
    "feature_image_url"
   ]
  },
  {
   "cell_type": "markdown",
   "metadata": {},
   "source": [
    "# Scraping Mars Weather"
   ]
  },
  {
   "cell_type": "code",
   "execution_count": 20,
   "metadata": {},
   "outputs": [],
   "source": [
    "#Scrape URL\n",
    "weather_url='https://twitter.com/marswxreport?lang=en'\n",
    "browser.visit(weather_url)"
   ]
  },
  {
   "cell_type": "code",
   "execution_count": 21,
   "metadata": {},
   "outputs": [],
   "source": [
    "#BeautifulSoup and parse\n",
    "html = browser.html\n",
    "twitter_mars_soup = BeautifulSoup(html, 'html.parser')"
   ]
  },
  {
   "cell_type": "code",
   "execution_count": 22,
   "metadata": {},
   "outputs": [
    {
     "name": "stdout",
     "output_type": "stream",
     "text": [
      "InSight sol 135 (2019-04-13) low -96.5ºC (-141.8ºF) high -16.6ºC (2.2ºF)\n",
      "winds from the SW at 4.2 m/s (9.4 mph) gusting to 11.3 m/s (25.3 mph)\n",
      "pressure at 7.30 hPapic.twitter.com/bRsLlzn4M0\n"
     ]
    }
   ],
   "source": [
    "#Retrieve elements\n",
    "twitter_mars=twitter_mars_soup.find_all('div', class_='js-tweet-text-container')\n",
    "\n",
    "#Results\n",
    "for tweet in twitter_mars: \n",
    "    mars_weather=tweet.find('p').text\n",
    "    if 'Sol' and 'gust' in mars_weather:\n",
    "        print(mars_weather)\n",
    "        break\n",
    "    else: \n",
    "        pass"
   ]
  },
  {
   "cell_type": "markdown",
   "metadata": {},
   "source": [
    "# Scraping Mars Facts"
   ]
  },
  {
   "cell_type": "code",
   "execution_count": 23,
   "metadata": {},
   "outputs": [],
   "source": [
    "#Scrape URL\n",
    "mars_facts_url = 'https://space-facts.com/mars/'\n",
    "\n",
    "#html read \n",
    "mars_facts=pd.read_html(mars_facts_url)"
   ]
  },
  {
   "cell_type": "code",
   "execution_count": 24,
   "metadata": {},
   "outputs": [],
   "source": [
    "#Retrieve elements\n",
    "mars_facts_df=mars_facts[0]\n",
    "\n",
    "#Transforamtion \n",
    "mars_facts_df.columns= ['Description','Value']\n",
    "mars_facts_df.set_index('Description')\n",
    "\n",
    "#Results\n",
    "mars_facts_df.to_html()\n",
    "mars_data= mars_facts_df.to_dict(orient='records')"
   ]
  },
  {
   "cell_type": "markdown",
   "metadata": {},
   "source": [
    "# Scraping Mars Hemispheres"
   ]
  },
  {
   "cell_type": "code",
   "execution_count": 32,
   "metadata": {},
   "outputs": [],
   "source": [
    "#Scrape URL\n",
    "hem_url='https://astrogeology.usgs.gov/search/results?q=hemisphere+enhanced&k1=target&v1=Mars'\n",
    "browser.visit(hem_url)"
   ]
  },
  {
   "cell_type": "code",
   "execution_count": 33,
   "metadata": {},
   "outputs": [],
   "source": [
    "#BeautifulSoup and parse\n",
    "html = browser.html\n",
    "mars_hem_soup = BeautifulSoup(html, 'html.parser')"
   ]
  },
  {
   "cell_type": "code",
   "execution_count": 35,
   "metadata": {},
   "outputs": [
    {
     "data": {
      "text/plain": [
       "[{'title': 'Cerberus Hemisphere Enhanced',\n",
       "  'img_url': 'https://astrogeology.usgs.gov/cache/images/cfa62af2557222a02478f1fcd781d445_cerberus_enhanced.tif_full.jpg'},\n",
       " {'title': 'Schiaparelli Hemisphere Enhanced',\n",
       "  'img_url': 'https://astrogeology.usgs.gov/cache/images/3cdd1cbf5e0813bba925c9030d13b62e_schiaparelli_enhanced.tif_full.jpg'},\n",
       " {'title': 'Syrtis Major Hemisphere Enhanced',\n",
       "  'img_url': 'https://astrogeology.usgs.gov/cache/images/ae209b4e408bb6c3e67b6af38168cf28_syrtis_major_enhanced.tif_full.jpg'},\n",
       " {'title': 'Valles Marineris Hemisphere Enhanced',\n",
       "  'img_url': 'https://astrogeology.usgs.gov/cache/images/7cf2da4bf549ed01c17f206327be4db7_valles_marineris_enhanced.tif_full.jpg'}]"
      ]
     },
     "execution_count": 35,
     "metadata": {},
     "output_type": "execute_result"
    }
   ],
   "source": [
    "#Retrieve elements\n",
    "hem_mars = mars_hem_soup.find_all('div', class_='item')\n",
    "hem_main_url = 'https://astrogeology.usgs.gov'\n",
    "\n",
    "#Results\n",
    "hem_img_urls=[]\n",
    "\n",
    "for p in hem_mars: \n",
    "   \n",
    "    title= p.find('h3').text\n",
    "    \n",
    "    partial_img_url = p.find('a', class_='itemLink product-item')['href']\n",
    "    browser.visit(hem_main_url + partial_img_url)\n",
    "    \n",
    "    partial_img_html = browser.html \n",
    "    hem_soup = BeautifulSoup( partial_img_html, 'html.parser')\n",
    "     \n",
    "    img_url = hem_main_url + hem_soup.find('img', class_='wide-image')['src']\n",
    "    hem_img_urls.append({\"title\" : title, \"img_url\" : img_url})\n",
    "    \n",
    "hem_img_urls"
   ]
  }
 ],
 "metadata": {
  "kernelspec": {
   "display_name": "Python 3",
   "language": "python",
   "name": "python3"
  },
  "language_info": {
   "codemirror_mode": {
    "name": "ipython",
    "version": 3
   },
   "file_extension": ".py",
   "mimetype": "text/x-python",
   "name": "python",
   "nbconvert_exporter": "python",
   "pygments_lexer": "ipython3",
   "version": "3.7.2"
  }
 },
 "nbformat": 4,
 "nbformat_minor": 2
}
